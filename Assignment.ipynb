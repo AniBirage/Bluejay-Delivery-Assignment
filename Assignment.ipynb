{
 "cells": [
  {
   "cell_type": "markdown",
   "metadata": {},
   "source": [
    "Assumptions Made:\n",
    "The code above assumes that the \"Time\" and \"Time Out\" columns are in a datetime format.\n",
    "The code above prints the name and position of employees who have worked for exactly 7 consecutive days."
   ]
  },
  {
   "cell_type": "markdown",
   "metadata": {},
   "source": [
    "Name and Position of Employees who has worked for 7 consecutive days."
   ]
  },
  {
   "cell_type": "code",
   "execution_count": 1,
   "metadata": {},
   "outputs": [
    {
     "name": "stdout",
     "output_type": "stream",
     "text": [
      "No employee has worked for 7 consecutive days\n"
     ]
    }
   ],
   "source": [
    "import pandas as pd\n",
    "\n",
    "df = pd.read_excel(\"Assignment_Timecard.xlsx\")  #Reading the excel file into a pandas dataFrame\n",
    "\n",
    "#Converting \"Time\" and \"Time Out\" columns to datetime objects\n",
    "df[\"Time\"] = pd.to_datetime(df[\"Time\"])\n",
    "df[\"Time Out\"] = pd.to_datetime(df[\"Time Out\"])\n",
    "\n",
    "df.sort_values([\"Employee Name\", \"Time\"], inplace=True)  #Sorting dataFrame by \"Employee Name\" and \"Time\" for consecutive day calculations\n",
    "\n",
    "#Initializing variables to check consecutive days and the start date of the current streak\n",
    "consecutive_days = 1\n",
    "current_streak_start = df.iloc[0][\"Time\"]\n",
    "\n",
    "for i in range(1, len(df)):\n",
    "    if (df.iloc[i][\"Time\"] - df.iloc[i - 1][\"Time\"]).days == 1 and df.iloc[i][\"Employee Name\"] == df.iloc[i - 1][\"Employee Name\"]:  #Checking if the current row is part of the consecutive days streak\n",
    "        consecutive_days += 1\n",
    "    else:\n",
    "        #Resetting streak if not consecutive\n",
    "        consecutive_days = 1\n",
    "        current_streak_start = df.iloc[i][\"Time\"]\n",
    "\n",
    "    if consecutive_days == 7:  #Checking if we found a streak of 7 consecutive days\n",
    "        employee_name = df.iloc[i][\"Employee Name\"]\n",
    "        position = df.iloc[i][\"Position ID\"]\n",
    "        print(f\"Employee: {employee_name}, Position: {position}, Consecutive Days: 7, Start Date: {current_streak_start}\")\n",
    "\n",
    "if consecutive_days < 7:\n",
    "    print(\"No employee has worked for 7 consecutive days\")"
   ]
  },
  {
   "cell_type": "markdown",
   "metadata": {},
   "source": [
    "Name and Position of Employees who have less than 10 hours of time between shifts but greater than 1 hour."
   ]
  },
  {
   "cell_type": "code",
   "execution_count": 2,
   "metadata": {},
   "outputs": [
    {
     "name": "stdout",
     "output_type": "stream",
     "text": [
      "Name and Position of Employees who have less than 10 hours of time between shifts but greater than 1 hour\n",
      "\n",
      "Employee Name: CaMaXaWE, CeghaW, Position: WFS000153\n",
      "Employee Name: CaMaXaWE, CeghaW, Position: WFS000153\n",
      "Employee Name: Xee, XaCar, Position: WFS000200\n",
      "Employee Name: Xee, XaCar, Position: WFS000200\n",
      "Employee Name: Xee, XaCar, Position: WFS000200\n",
      "Employee Name: De Xa Cerda, IgWaciE, Position: WFS000318\n",
      "Employee Name: MraW, WiXXiaC Ha, Position: WFS000345\n",
      "Employee Name: MraW, WiXXiaC Ha, Position: WFS000345\n",
      "Employee Name: CEreira Jr, JEse, Position: WFS000456\n",
      "Employee Name: GrACfieXd, CErWeXiAs, Position: WFS000515\n",
      "Employee Name: DeXgadiXXE REdarMe, ChrisMiaW S, Position: WFS000523\n",
      "Employee Name: HaCiXMEW, DeaWMe DevEW, Position: WFS000536\n",
      "Employee Name: REdrigAez, GraWdEW AWgeX, Position: WFS000550\n"
     ]
    }
   ],
   "source": [
    "df = pd.read_excel(\"Assignment_Timecard.xlsx\")\n",
    "\n",
    "print(\"Name and Position of Employees who have less than 10 hours of time between shifts but greater than 1 hour\\n\")\n",
    "\n",
    "for i in range(1, len(df)):  #Iterating through the dataFrame to find employees with less than 10 hours between shifts\n",
    "    time_difference = (df.iloc[i][\"Time\"] - df.iloc[i - 1][\"Time Out\"]).total_seconds() / 3600\n",
    "\n",
    "    if (1 < time_difference < 10 and df.iloc[i][\"Employee Name\"] == df.iloc[i - 1][\"Employee Name\"]):  #Checking if the time difference is greater than 1 hour and less than 10 hours\n",
    "        employee_name = df.iloc[i][\"Employee Name\"]\n",
    "        position = df.iloc[i][\"Position ID\"]\n",
    "        print(f\"Employee Name: {employee_name}, Position: {position}\")"
   ]
  },
  {
   "cell_type": "markdown",
   "metadata": {},
   "source": [
    "Name and Position of Employees who has worked for more than 14 hours in a single shift."
   ]
  },
  {
   "cell_type": "code",
   "execution_count": 3,
   "metadata": {},
   "outputs": [
    {
     "name": "stdout",
     "output_type": "stream",
     "text": [
      "Name and Position of Employees who has worked for more than 14 hours in a single shift\n",
      "\n",
      "Employee Name: DeXgadiXXE REdarMe, ChrisMiaW S,Position: WFS000523\n"
     ]
    }
   ],
   "source": [
    "df['Shift Duration'] = (df['Time Out'] - df['Time']).dt.total_seconds() / 3600 #Calculating the duration of each shift in hours\n",
    "\n",
    "long_shifts_df = df[df['Shift Duration'] > 14] #Filtering the rows where the shift duration is more than 14 hours\n",
    "\n",
    "print(\"Name and Position of Employees who has worked for more than 14 hours in a single shift\\n\")\n",
    "\n",
    "for index, row in long_shifts_df.iterrows(): #Printing the name and position of employees with long shifts\n",
    "    print(f\"Employee Name: {row['Employee Name']},Position: {row['Position ID']}\")"
   ]
  }
 ],
 "metadata": {
  "kernelspec": {
   "display_name": "Python 3",
   "language": "python",
   "name": "python3"
  },
  "language_info": {
   "codemirror_mode": {
    "name": "ipython",
    "version": 3
   },
   "file_extension": ".py",
   "mimetype": "text/x-python",
   "name": "python",
   "nbconvert_exporter": "python",
   "pygments_lexer": "ipython3",
   "version": "3.11.0"
  }
 },
 "nbformat": 4,
 "nbformat_minor": 2
}
